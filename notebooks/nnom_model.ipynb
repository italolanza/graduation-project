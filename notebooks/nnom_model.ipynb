{
 "cells": [
  {
   "cell_type": "code",
   "execution_count": 1,
   "metadata": {},
   "outputs": [
    {
     "name": "stdout",
     "output_type": "stream",
     "text": [
      "Path: ['/home/italolanza/workspace/TG/graduation-project/notebooks', '/usr/lib/python39.zip', '/usr/lib/python3.9', '/usr/lib/python3.9/lib-dynload', '', '/home/italolanza/.local/lib/python3.9/site-packages', '/usr/local/lib/python3.9/dist-packages', '/usr/lib/python3/dist-packages', '/home/italolanza/.local/lib/python3.9/site-packages/IPython/extensions', '/home/italolanza/.ipython', '/home/italolanza/workspace/TG/runtimes/nnom']\n"
     ]
    },
    {
     "name": "stderr",
     "output_type": "stream",
     "text": [
      "2022-04-12 18:24:04.336587: I tensorflow/stream_executor/cuda/cuda_gpu_executor.cc:939] successful NUMA node read from SysFS had negative value (-1), but there must be at least one NUMA node, so returning NUMA node zero\n",
      "2022-04-12 18:24:04.342184: I tensorflow/stream_executor/cuda/cuda_gpu_executor.cc:939] successful NUMA node read from SysFS had negative value (-1), but there must be at least one NUMA node, so returning NUMA node zero\n",
      "2022-04-12 18:24:04.342463: I tensorflow/stream_executor/cuda/cuda_gpu_executor.cc:939] successful NUMA node read from SysFS had negative value (-1), but there must be at least one NUMA node, so returning NUMA node zero\n"
     ]
    }
   ],
   "source": [
    "import sys\n",
    "import os\n",
    "sys.path.append(os.path.abspath(\"/home/italolanza/workspace/TG/runtimes/nnom/\"))\n",
    "print(f'Path: {sys.path}')\n",
    "\n",
    "from tensorflow.keras import *\n",
    "from tensorflow.keras.datasets import mnist\n",
    "from tensorflow.keras.layers import *\n",
    "from tensorflow.keras.activations import *\n",
    "from tensorflow.keras.models import load_model, save_model\n",
    "import pandas as pd\n",
    "from sklearn.model_selection import train_test_split\n",
    "import tensorflow as tf\n",
    "\n",
    "physical_devices = tf.config.list_physical_devices('GPU') \n",
    "tf.config.experimental.set_memory_growth(physical_devices[0], True)\n",
    "\n",
    "import numpy as np\n",
    "from scripts.nnom_utils import *"
   ]
  },
  {
   "cell_type": "code",
   "execution_count": 2,
   "metadata": {},
   "outputs": [],
   "source": [
    "DATASET_DIR = '/home/italolanza/workspace/TG/dataset/'\n",
    "DATASET_NAME = 'dataset_completo.csv' \n",
    "DATASET_PATH = DATASET_DIR+DATASET_NAME\n",
    "MODEL_DIR = '/home/italolanza/workspace/TG/graduation-project/models/tf_model/'\n",
    "NNOM_MODEL_DIR = '/home/italolanza/workspace/TG/graduation-project/models/nnom/'\n",
    "\n",
    "collum_name = ['Tacom_1f0', 'Tacom_2f0', 'Tacom_3f0', 'Tacom_kurtosis', 'Tacom_entropy', 'Aceler_Underhang_X_1f0', 'Aceler_Underhang_X_2f0', 'Aceler_Underhang_X_3f0', 'Aceler_Underhang_X_kurtosis', 'Aceler_Underhang_X_entropy', 'Aceler_Underhang_Y_1f0', 'Aceler_Underhang_Y_2f0', 'Aceler_Underhang_Y_3f0', 'Aceler_Underhang_Y_kurtosis', 'Aceler_Underhang_Y_entropy', 'Aceler_Underhang_Z_1f0', 'Aceler_Underhang_Z_2f0', 'Aceler_Underhang_Z_3f0', 'Aceler_Underhang_Z_kurtosis', 'Aceler_Underhang_Z_entropy', 'Aceler_Overhang_X_1f0', 'Aceler_Overhang_X_2f0', 'Aceler_Overhang_X_3f0', 'Aceler_Overhang_X_kurtosis', 'Aceler_Overhang_X_entropy', 'Aceler_Overhang_Y_1f0', 'Aceler_Overhang_Y_2f0', 'Aceler_Overhang_Y_3f0', 'Aceler_Overhang_Y_kurtosis', 'Aceler_Overhang_Y_entropy', 'Aceler_Overhang_Z_1f0', 'Aceler_Overhang_Z_2f0', 'Aceler_Overhang_Z_3f0', 'Aceler_Overhang_Z_kurtosis', 'Aceler_Overhang_Z_entropy', 'Audio_1f0', 'Audio_2f0', 'Audio_3f0', 'Audio_kurtosis', 'Audio_entropy', 'Class']\n",
    "all_features = ['Tacom_1f0', 'Tacom_2f0', 'Tacom_3f0', 'Tacom_kurtosis', 'Tacom_entropy', 'Aceler_Underhang_X_1f0', 'Aceler_Underhang_X_2f0', 'Aceler_Underhang_X_3f0', 'Aceler_Underhang_X_kurtosis', 'Aceler_Underhang_X_entropy', 'Aceler_Underhang_Y_1f0', 'Aceler_Underhang_Y_2f0', 'Aceler_Underhang_Y_3f0', 'Aceler_Underhang_Y_kurtosis', 'Aceler_Underhang_Y_entropy', 'Aceler_Underhang_Z_1f0', 'Aceler_Underhang_Z_2f0', 'Aceler_Underhang_Z_3f0', 'Aceler_Underhang_Z_kurtosis', 'Aceler_Underhang_Z_entropy', 'Aceler_Overhang_X_1f0', 'Aceler_Overhang_X_2f0', 'Aceler_Overhang_X_3f0', 'Aceler_Overhang_X_kurtosis', 'Aceler_Overhang_X_entropy', 'Aceler_Overhang_Y_1f0', 'Aceler_Overhang_Y_2f0', 'Aceler_Overhang_Y_3f0', 'Aceler_Overhang_Y_kurtosis', 'Aceler_Overhang_Y_entropy', 'Aceler_Overhang_Z_1f0', 'Aceler_Overhang_Z_2f0', 'Aceler_Overhang_Z_3f0', 'Aceler_Overhang_Z_kurtosis', 'Aceler_Overhang_Z_entropy', 'Audio_1f0', 'Audio_2f0', 'Audio_3f0', 'Audio_kurtosis', 'Audio_entropy']"
   ]
  },
  {
   "cell_type": "code",
   "execution_count": 3,
   "metadata": {},
   "outputs": [],
   "source": [
    "# load dataset data\n",
    "dataset = pd.read_csv(DATASET_PATH, names=collum_name)\n",
    "dataset_x = dataset[all_features].values\n",
    "dataset_y = dataset['Class'].values.astype(np.uint8)\n",
    "x_train, x_test, y_train, y_test = train_test_split(dataset_x, dataset_y, test_size=0.3, shuffle=True)"
   ]
  },
  {
   "cell_type": "code",
   "execution_count": 4,
   "metadata": {},
   "outputs": [
    {
     "name": "stderr",
     "output_type": "stream",
     "text": [
      "2022-04-12 18:24:20.332466: I tensorflow/core/platform/cpu_feature_guard.cc:151] This TensorFlow binary is optimized with oneAPI Deep Neural Network Library (oneDNN) to use the following CPU instructions in performance-critical operations:  AVX2 FMA\n",
      "To enable them in other operations, rebuild TensorFlow with the appropriate compiler flags.\n",
      "2022-04-12 18:24:20.333493: I tensorflow/stream_executor/cuda/cuda_gpu_executor.cc:939] successful NUMA node read from SysFS had negative value (-1), but there must be at least one NUMA node, so returning NUMA node zero\n",
      "2022-04-12 18:24:20.333889: I tensorflow/stream_executor/cuda/cuda_gpu_executor.cc:939] successful NUMA node read from SysFS had negative value (-1), but there must be at least one NUMA node, so returning NUMA node zero\n",
      "2022-04-12 18:24:20.334224: I tensorflow/stream_executor/cuda/cuda_gpu_executor.cc:939] successful NUMA node read from SysFS had negative value (-1), but there must be at least one NUMA node, so returning NUMA node zero\n",
      "2022-04-12 18:24:20.718230: I tensorflow/stream_executor/cuda/cuda_gpu_executor.cc:939] successful NUMA node read from SysFS had negative value (-1), but there must be at least one NUMA node, so returning NUMA node zero\n",
      "2022-04-12 18:24:20.718461: I tensorflow/stream_executor/cuda/cuda_gpu_executor.cc:939] successful NUMA node read from SysFS had negative value (-1), but there must be at least one NUMA node, so returning NUMA node zero\n",
      "2022-04-12 18:24:20.718656: I tensorflow/stream_executor/cuda/cuda_gpu_executor.cc:939] successful NUMA node read from SysFS had negative value (-1), but there must be at least one NUMA node, so returning NUMA node zero\n",
      "2022-04-12 18:24:20.718840: I tensorflow/core/common_runtime/gpu/gpu_device.cc:1525] Created device /job:localhost/replica:0/task:0/device:GPU:0 with 132 MB memory:  -> device: 0, name: NVIDIA GeForce GTX 1070 Ti, pci bus id: 0000:07:00.0, compute capability: 6.1\n"
     ]
    },
    {
     "name": "stdout",
     "output_type": "stream",
     "text": [
      "binary test file generated: /home/italolanza/workspace/TG/dataset/test_data_nnom.bin\n",
      "test data length: 586\n",
      "dense_input max value: 925977.8520085523 min value: -20.265629941305107 dec bit -13\n",
      "dense max value: 283333.4 min value: 0.0 dec bit -12\n",
      "dense_1 max value: 1.0 min value: 0.0 dec bit 7\n",
      "shift list {'dense_input': -13, 'dense': -12, 'dense_1': 7}\n",
      "weights for layer dense\n",
      "  weight: dense/kernel:0\n",
      "  original shape:  (40, 32)\n",
      "  dec bit 4\n",
      "  reshape to: (1280,)\n",
      "  bias:  dense/bias:0\n",
      "  original shape:  (32,)\n",
      "  dec bit 6\n",
      "  new dec bit 4\n",
      "  reshape to: (32,)\n",
      "weights for layer dense_1\n",
      "  weight: dense_1/kernel:0\n",
      "  original shape:  (32, 6)\n",
      "  dec bit 6\n",
      "  reshape to: (192,)\n",
      "  bias:  dense_1/bias:0\n",
      "  original shape:  (6,)\n",
      "  dec bit 6\n",
      "  new dec bit 6\n",
      "  reshape to: (6,)\n"
     ]
    }
   ],
   "source": [
    "# load keras saved model\n",
    "# -------- generate weights.h (NNoM model) ----------\n",
    "model = load_model(MODEL_DIR)\n",
    "\n",
    "# generate binary dataset for NNoM validation\n",
    "generate_test_bin(x_test, y_test, name=DATASET_DIR+'test_data_nnom.bin')\n",
    "\n",
    "# generate NNoM model, x_test is the calibration dataset used in quantisation process\n",
    "generate_model(model,  x_test, name=NNOM_MODEL_DIR+\"weights.h\", quantize_method='max_min')\n",
    "\n"
   ]
  },
  {
   "cell_type": "code",
   "execution_count": null,
   "metadata": {},
   "outputs": [],
   "source": [
    "# evaluate in Keras (for comparision)\n",
    "scores = evaluate_model(model, x_test, y_test)"
   ]
  },
  {
   "cell_type": "code",
   "execution_count": null,
   "metadata": {},
   "outputs": [],
   "source": [
    "# --------- for test in CI ----------\n",
    "os.walk(NNOM_MODEL_DIR)\n",
    "# build NNoM\n",
    "os.system(\"scons\")\n",
    "\n",
    "# do inference using NNoM\n",
    "cmd = \".\\mnist.exe\" if 'win' in sys.platform else \"./mnist\"\n",
    "os.system(cmd)\n",
    "try:\n",
    "    # get NNoM results\n",
    "    result = np.genfromtxt('result.csv', delimiter=',', dtype=np.int, skip_header=1)\n",
    "    result = result[:,0]        # the first column is the label, the second is the probability\n",
    "    label = y_test_original[:len(y_test)].flatten()     # use the original numerical label\n",
    "    acc = np.sum(result == label).astype('float32')/len(result)\n",
    "    if (acc > 0.5):\n",
    "        print(\"Top 1 Accuracy on Keras %.2f%%\" %(scores[1]*100))\n",
    "        print(\"Top 1 Accuracy on NNoM  %.2f%%\" %(acc *100))\n",
    "        return 0\n",
    "    else:\n",
    "        raise Exception('test failed, accuracy is %.1f%% < 80%%' % (acc * 100.0))\n",
    "except:\n",
    "    raise Exception('could not perform the test with NNoM')"
   ]
  }
 ],
 "metadata": {
  "interpreter": {
   "hash": "31f2aee4e71d21fbe5cf8b01ff0e069b9275f58929596ceb00d14d90e3e16cd6"
  },
  "kernelspec": {
   "display_name": "Python 3.9.7 64-bit",
   "language": "python",
   "name": "python3"
  },
  "language_info": {
   "codemirror_mode": {
    "name": "ipython",
    "version": 3
   },
   "file_extension": ".py",
   "mimetype": "text/x-python",
   "name": "python",
   "nbconvert_exporter": "python",
   "pygments_lexer": "ipython3",
   "version": "3.9.7"
  },
  "orig_nbformat": 4
 },
 "nbformat": 4,
 "nbformat_minor": 2
}
