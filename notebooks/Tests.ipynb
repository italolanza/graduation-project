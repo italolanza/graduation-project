{
 "cells": [
  {
   "cell_type": "code",
   "execution_count": 2,
   "metadata": {},
   "outputs": [],
   "source": [
    "import torch\n",
    "import torch.onnx\n",
    "import onnx\n",
    "import onnxruntime as rt\n",
    "import numpy as np\n",
    "import pandas as pd\n",
    "# import tensorflow as tf\n",
    "import matplotlib.pyplot as plt\n",
    "from sklearn.model_selection import train_test_split\n",
    "from pathlib import Path"
   ]
  },
  {
   "cell_type": "code",
   "execution_count": 2,
   "metadata": {},
   "outputs": [],
   "source": [
    "DATASET_DIR = '/home/italolanza/workspace/TG/dataset/'\n",
    "DATASET_NAME = 'dataset_completo.csv' \n",
    "DATASET_PATH = DATASET_DIR+DATASET_NAME\n",
    "MODEL_DIR = '/home/italolanza/workspace/TG/graduation-project/models/'"
   ]
  },
  {
   "cell_type": "code",
   "execution_count": 13,
   "metadata": {},
   "outputs": [],
   "source": [
    "collum_name = ['Tacom_1f0', 'Tacom_2f0', 'Tacom_3f0', 'Tacom_kurtosis', 'Tacom_entropy', 'Aceler_Underhang_X_1f0', 'Aceler_Underhang_X_2f0', 'Aceler_Underhang_X_3f0', 'Aceler_Underhang_X_kurtosis', 'Aceler_Underhang_X_entropy', 'Aceler_Underhang_Y_1f0', 'Aceler_Underhang_Y_2f0', 'Aceler_Underhang_Y_3f0', 'Aceler_Underhang_Y_kurtosis', 'Aceler_Underhang_Y_entropy', 'Aceler_Underhang_Z_1f0', 'Aceler_Underhang_Z_2f0', 'Aceler_Underhang_Z_3f0', 'Aceler_Underhang_Z_kurtosis', 'Aceler_Underhang_Z_entropy', 'Aceler_Overhang_X_1f0', 'Aceler_Overhang_X_2f0', 'Aceler_Overhang_X_3f0', 'Aceler_Overhang_X_kurtosis', 'Aceler_Overhang_X_entropy', 'Aceler_Overhang_Y_1f0', 'Aceler_Overhang_Y_2f0', 'Aceler_Overhang_Y_3f0', 'Aceler_Overhang_Y_kurtosis', 'Aceler_Overhang_Y_entropy', 'Aceler_Overhang_Z_1f0', 'Aceler_Overhang_Z_2f0', 'Aceler_Overhang_Z_3f0', 'Aceler_Overhang_Z_kurtosis', 'Aceler_Overhang_Z_entropy', 'Audio_1f0', 'Audio_2f0', 'Audio_3f0', 'Audio_kurtosis', 'Audio_entropy', 'Class']\n",
    "all_features = ['Tacom_1f0', 'Tacom_2f0', 'Tacom_3f0', 'Tacom_kurtosis', 'Tacom_entropy', 'Aceler_Underhang_X_1f0', 'Aceler_Underhang_X_2f0', 'Aceler_Underhang_X_3f0', 'Aceler_Underhang_X_kurtosis', 'Aceler_Underhang_X_entropy', 'Aceler_Underhang_Y_1f0', 'Aceler_Underhang_Y_2f0', 'Aceler_Underhang_Y_3f0', 'Aceler_Underhang_Y_kurtosis', 'Aceler_Underhang_Y_entropy', 'Aceler_Underhang_Z_1f0', 'Aceler_Underhang_Z_2f0', 'Aceler_Underhang_Z_3f0', 'Aceler_Underhang_Z_kurtosis', 'Aceler_Underhang_Z_entropy', 'Aceler_Overhang_X_1f0', 'Aceler_Overhang_X_2f0', 'Aceler_Overhang_X_3f0', 'Aceler_Overhang_X_kurtosis', 'Aceler_Overhang_X_entropy', 'Aceler_Overhang_Y_1f0', 'Aceler_Overhang_Y_2f0', 'Aceler_Overhang_Y_3f0', 'Aceler_Overhang_Y_kurtosis', 'Aceler_Overhang_Y_entropy', 'Aceler_Overhang_Z_1f0', 'Aceler_Overhang_Z_2f0', 'Aceler_Overhang_Z_3f0', 'Aceler_Overhang_Z_kurtosis', 'Aceler_Overhang_Z_entropy', 'Audio_1f0', 'Audio_2f0', 'Audio_3f0', 'Audio_kurtosis', 'Audio_entropy']"
   ]
  },
  {
   "cell_type": "code",
   "execution_count": 8,
   "metadata": {},
   "outputs": [
    {
     "name": "stdout",
     "output_type": "stream",
     "text": [
      "/home/italolanza/workspace/TG/dataset/x_test.csv\n",
      "/home/italolanza/workspace/TG/dataset/y_test.csv\n",
      "[[ 9.88460975e+04  1.43144546e+05  8.02879299e+04  3.10412119e+00\n",
      "  -1.36940581e+01  2.29628759e+04  7.05134046e+03  1.75745122e+04\n",
      "  -6.67190080e-01 -5.40683139e+00  1.00083939e+05  1.06844394e+04\n",
      "   4.38800077e+03 -1.17755927e+00 -5.36533633e+00  1.84558197e+04\n",
      "   1.51452283e+03  2.13790247e+03 -5.62914583e-01 -8.87194006e+00\n",
      "   1.33628975e+04  6.12351348e+03  1.66809585e+03 -1.49322344e-01\n",
      "  -7.20594230e+00  8.94790661e+04  7.58171310e+04  1.07648973e+04\n",
      "  -7.09201014e-01 -4.64113509e+00  3.02847543e+04  1.62509932e+04\n",
      "   3.19085611e+03 -3.86140248e-01 -5.14881998e+00  1.67967722e+03\n",
      "   4.14992433e+02  1.70166689e+03 -1.99701358e-01 -1.80275871e+01]\n",
      " [ 1.37014348e+05  1.23941583e+05  1.04247215e+05  4.05778204e+00\n",
      "  -1.37617420e+01  2.65863746e+04  2.07713904e+03  2.22841045e+04\n",
      "  -9.22568337e-01 -7.00796080e+00  1.64708297e+03  4.68948168e+03\n",
      "   1.60697666e+03 -8.23566497e-01 -6.13060625e+00  3.00697150e+03\n",
      "   4.45696488e+02  7.24675534e+02 -4.68142966e-02 -1.66266535e+01\n",
      "   1.25469806e+04  4.41955097e+03  2.24301943e+03 -4.08346229e-01\n",
      "  -1.30436598e+01  2.72141563e+03  9.42119787e+02  4.91377694e+02\n",
      "  -3.94541821e-01 -1.78206021e+01  7.63149240e+04  3.07286243e+04\n",
      "   1.43188010e+04  9.52100528e-02 -2.59115414e+00  3.19037812e+03\n",
      "   3.92712169e+02  2.47469150e+03  2.37967753e-01 -1.79814955e+01]]\n",
      "[5. 1. 4. 0. 4. 5. 1. 5. 2. 4. 5. 3. 3. 1. 5. 5. 4. 5. 4. 2. 5. 1. 2. 3.\n",
      " 5. 0. 1. 1. 1. 5. 3. 4. 4. 5. 4. 2. 4. 2. 1. 5. 3. 2. 0. 1. 1. 5. 5. 5.\n",
      " 4. 1. 5. 2. 5. 4. 4. 1. 5. 5. 5. 5. 4. 5. 0. 4. 5. 3. 3. 2. 1. 3. 3. 4.\n",
      " 0. 4. 5. 3. 5. 5. 3. 1. 4. 5. 4. 5. 5. 3. 3. 3. 1. 1. 4. 5. 3. 1. 3. 4.\n",
      " 5. 5. 3. 2. 5. 1. 4. 5. 4. 5. 0. 4. 4. 1. 3. 5. 2. 5. 4. 5. 4. 0. 1. 5.\n",
      " 1. 3. 4. 5. 5. 5. 1. 1. 5. 4. 2. 1. 4. 5. 4. 2. 4. 4. 5. 4. 0. 3. 5. 1.\n",
      " 4. 5. 2. 4. 5. 0. 5. 5. 5. 2. 4. 2. 1. 5. 2. 4. 3. 1. 5. 5. 4. 5. 5. 4.\n",
      " 5. 4. 5. 2. 3. 3. 1. 5. 4. 3. 4. 3. 4. 3. 1. 4. 4. 5. 5. 1. 3. 5. 3. 5.\n",
      " 5. 1. 4. 5. 1. 3. 5. 5. 4. 5. 1. 5. 1. 5. 1. 1. 4. 1. 5. 3. 2. 2. 5. 4.\n",
      " 5. 4. 1. 5. 3. 2. 4. 4. 5. 0. 5. 2. 5. 4. 5. 5. 5. 4. 3. 1. 1. 3. 4. 4.\n",
      " 2. 5. 1. 5. 4. 5. 5. 5. 4. 5. 5. 4. 2. 4. 4. 5. 5. 5. 4. 1. 5. 2. 5. 5.\n",
      " 3. 4. 2. 5. 5. 1. 5. 5. 3. 3. 0. 5. 3. 4. 1. 4. 1. 0. 2. 1. 4. 5. 4. 5.\n",
      " 4. 5. 4. 3. 5. 2. 3. 4. 2. 1. 0. 2. 5. 1. 5. 5. 1. 4. 5. 1. 1. 2. 4. 3.\n",
      " 4. 5. 1. 4. 5. 1. 2. 3. 4. 1. 4. 4. 2. 2. 3. 2. 2. 5. 5. 4. 4. 2. 3. 4.\n",
      " 4. 1. 4. 0. 4. 1. 3. 3. 0. 3. 1. 4. 4. 1. 4. 1. 5. 4. 5. 2. 1. 4. 1. 1.\n",
      " 5. 4. 5. 5. 5. 3. 5. 4. 1. 4. 2. 4. 3. 3. 3. 4. 4. 4. 3. 3. 0. 5. 4. 5.\n",
      " 5. 4. 1. 5. 5. 5. 4. 5. 2. 4. 0. 5. 5. 4. 4. 4. 1. 3. 1. 1. 4. 4. 5. 3.\n",
      " 2. 3. 5. 3. 4. 3. 4. 4. 1. 5. 4. 4. 4. 3. 4. 5. 0. 3. 5. 4. 5. 1. 4. 5.\n",
      " 3. 1. 1. 5. 3. 4. 4. 4. 4. 4. 4. 2. 5. 3. 5. 4. 4. 1. 1. 5. 5. 1. 5. 4.\n",
      " 3. 4. 2. 5. 4. 4. 4. 1. 5. 4. 2. 1. 4. 1. 2. 4. 2. 3. 5. 0. 1. 5. 5. 5.\n",
      " 5. 4. 5. 3. 1. 5. 3. 3. 3. 5. 4. 3. 5. 2. 4. 4. 0. 1. 5. 5. 4. 5. 4. 5.\n",
      " 4. 3. 1. 1. 4. 4. 1. 4. 1. 4. 5. 5. 0. 3. 4. 4. 4. 1. 4. 3. 5. 5. 1. 1.\n",
      " 1. 5. 4. 3. 4. 3. 1. 5. 4. 3. 1. 4. 5. 3. 4. 1. 5. 5. 1. 4. 2. 4. 2. 4.\n",
      " 5. 3. 5. 4. 1. 1. 5. 1. 4. 5. 3. 5. 3. 5. 4. 5. 2. 5. 3. 2. 3. 4. 2. 1.\n",
      " 2. 3. 3. 4. 4. 5. 5. 3. 5. 1.]\n"
     ]
    }
   ],
   "source": [
    "DATASET_BASE_DIR = Path(\"/home/italolanza/workspace/TG/dataset/\")\n",
    "VALIDATION_INPUT_DATA = DATASET_BASE_DIR.joinpath('x_test.csv')\n",
    "VALIDATION_OUTPUT_DATA = DATASET_BASE_DIR.joinpath('y_test.csv')\n",
    "\n",
    "print(VALIDATION_INPUT_DATA)\n",
    "print(VALIDATION_OUTPUT_DATA)\n",
    "\n",
    "\n",
    "x_data = np.loadtxt(VALIDATION_INPUT_DATA,delimiter=',')\n",
    "y_data = np.loadtxt(VALIDATION_OUTPUT_DATA,delimiter=',')\n",
    "\n",
    "print(x_data[0:2])\n",
    "print(y_data)"
   ]
  }
 ],
 "metadata": {
  "interpreter": {
   "hash": "31f2aee4e71d21fbe5cf8b01ff0e069b9275f58929596ceb00d14d90e3e16cd6"
  },
  "kernelspec": {
   "display_name": "Python 3.9.7 64-bit",
   "language": "python",
   "name": "python3"
  },
  "language_info": {
   "codemirror_mode": {
    "name": "ipython",
    "version": 3
   },
   "file_extension": ".py",
   "mimetype": "text/x-python",
   "name": "python",
   "nbconvert_exporter": "python",
   "pygments_lexer": "ipython3",
   "version": "3.9.7"
  },
  "orig_nbformat": 4
 },
 "nbformat": 4,
 "nbformat_minor": 2
}
