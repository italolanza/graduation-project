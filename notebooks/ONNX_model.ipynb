{
 "cells": [
  {
   "cell_type": "code",
   "execution_count": 1,
   "metadata": {},
   "outputs": [],
   "source": [
    "import pandas as pd\n",
    "import numpy as np\n",
    "import csv\n",
    "from math import floor\n",
    "import matplotlib.pyplot as plt\n",
    "import tensorflow as tf\n",
    "import onnxruntime as rt\n",
    "from sklearn.model_selection import train_test_split\n",
    "import onnx\n",
    "from onnx.external_data_helper import load_external_data_for_model"
   ]
  },
  {
   "cell_type": "code",
   "execution_count": 14,
   "metadata": {},
   "outputs": [],
   "source": [
    "DATASET_DIR = '/home/italolanza/workspace/TG/dataset/'\n",
    "DATASET_NAME = 'dataset_completo.csv' \n",
    "TEST_DATA_NAME = 'x_test.pb'\n",
    "MODEL_DIR = '/home/italolanza/workspace/TG/graduation-project/models/'\n",
    "MODEL_NAME = 'sequential.onnx'"
   ]
  },
  {
   "cell_type": "code",
   "execution_count": 3,
   "metadata": {},
   "outputs": [],
   "source": [
    "# feautures\n",
    "collum_name = ['Tacom_1f0', 'Tacom_2f0', 'Tacom_3f0', 'Tacom_kurtosis', 'Tacom_entropy', 'Aceler_Underhang_X_1f0', 'Aceler_Underhang_X_2f0', 'Aceler_Underhang_X_3f0', 'Aceler_Underhang_X_kurtosis', 'Aceler_Underhang_X_entropy', 'Aceler_Underhang_Y_1f0', 'Aceler_Underhang_Y_2f0', 'Aceler_Underhang_Y_3f0', 'Aceler_Underhang_Y_kurtosis', 'Aceler_Underhang_Y_entropy', 'Aceler_Underhang_Z_1f0', 'Aceler_Underhang_Z_2f0', 'Aceler_Underhang_Z_3f0', 'Aceler_Underhang_Z_kurtosis', 'Aceler_Underhang_Z_entropy', 'Aceler_Overhang_X_1f0', 'Aceler_Overhang_X_2f0', 'Aceler_Overhang_X_3f0', 'Aceler_Overhang_X_kurtosis', 'Aceler_Overhang_X_entropy', 'Aceler_Overhang_Y_1f0', 'Aceler_Overhang_Y_2f0', 'Aceler_Overhang_Y_3f0', 'Aceler_Overhang_Y_kurtosis', 'Aceler_Overhang_Y_entropy', 'Aceler_Overhang_Z_1f0', 'Aceler_Overhang_Z_2f0', 'Aceler_Overhang_Z_3f0', 'Aceler_Overhang_Z_kurtosis', 'Aceler_Overhang_Z_entropy', 'Audio_1f0', 'Audio_2f0', 'Audio_3f0', 'Audio_kurtosis', 'Audio_entropy', 'Class']\n",
    "all_features = ['Tacom_1f0', 'Tacom_2f0', 'Tacom_3f0', 'Tacom_kurtosis', 'Tacom_entropy', 'Aceler_Underhang_X_1f0', 'Aceler_Underhang_X_2f0', 'Aceler_Underhang_X_3f0', 'Aceler_Underhang_X_kurtosis', 'Aceler_Underhang_X_entropy', 'Aceler_Underhang_Y_1f0', 'Aceler_Underhang_Y_2f0', 'Aceler_Underhang_Y_3f0', 'Aceler_Underhang_Y_kurtosis', 'Aceler_Underhang_Y_entropy', 'Aceler_Underhang_Z_1f0', 'Aceler_Underhang_Z_2f0', 'Aceler_Underhang_Z_3f0', 'Aceler_Underhang_Z_kurtosis', 'Aceler_Underhang_Z_entropy', 'Aceler_Overhang_X_1f0', 'Aceler_Overhang_X_2f0', 'Aceler_Overhang_X_3f0', 'Aceler_Overhang_X_kurtosis', 'Aceler_Overhang_X_entropy', 'Aceler_Overhang_Y_1f0', 'Aceler_Overhang_Y_2f0', 'Aceler_Overhang_Y_3f0', 'Aceler_Overhang_Y_kurtosis', 'Aceler_Overhang_Y_entropy', 'Aceler_Overhang_Z_1f0', 'Aceler_Overhang_Z_2f0', 'Aceler_Overhang_Z_3f0', 'Aceler_Overhang_Z_kurtosis', 'Aceler_Overhang_Z_entropy', 'Audio_1f0', 'Audio_2f0', 'Audio_3f0', 'Audio_kurtosis', 'Audio_entropy']\n",
    "\n",
    "# loading data\n",
    "dataset_path = DATASET_DIR + DATASET_NAME\n",
    "\n",
    "dataset = pd.read_csv(dataset_path, names=collum_name)\n",
    "dataset_x = dataset[all_features].values\n",
    "dataset_y = dataset['Class'].values.astype(np.uint8)\n",
    "x_train, x_test, y_train, y_test = train_test_split(dataset_x, dataset_y, test_size=0.3, shuffle=True)\n",
    "\n",
    "data_path = DATASET_DIR + TEST_DATA_NAME\n",
    "\n",
    "# Load a TensorProto\n",
    "new_tensor = onnx.TensorProto()\n",
    "with open(data_path, 'rb') as f:\n",
    "    new_tensor.ParseFromString(f.read())"
   ]
  },
  {
   "cell_type": "markdown",
   "metadata": {},
   "source": [
    "## Running the ONNX Model"
   ]
  },
  {
   "cell_type": "code",
   "execution_count": 15,
   "metadata": {},
   "outputs": [],
   "source": [
    "model_path = MODEL_DIR + MODEL_NAME\n",
    "\n",
    "onnx_model = onnx.load(model_path)\n",
    "onnx.checker.check_model(onnx_model)"
   ]
  },
  {
   "cell_type": "code",
   "execution_count": 36,
   "metadata": {},
   "outputs": [],
   "source": [
    "\n",
    "providers = ['CPUExecutionProvider']\n",
    "sess_options = rt.SessionOptions()\n",
    "sess_options.enable_profiling = True\n",
    "\n",
    "session = rt.InferenceSession(model_path, providers=providers, sess_options=sess_options)\n",
    "input_name = [session.get_inputs()[0].name]\n",
    "output_names = [session.get_outputs()[0].name]\n",
    "\n",
    "# onnx_pred = session.run(None, {\"input\": np.float32(x_test[:3])})\n"
   ]
  },
  {
   "cell_type": "code",
   "execution_count": 37,
   "metadata": {},
   "outputs": [
    {
     "name": "stdout",
     "output_type": "stream",
     "text": [
      "['input']\n",
      "['dense_1']\n"
     ]
    }
   ],
   "source": [
    "print(input_name)\n",
    "print(output_names)"
   ]
  },
  {
   "cell_type": "code",
   "execution_count": 41,
   "metadata": {},
   "outputs": [
    {
     "name": "stdout",
     "output_type": "stream",
     "text": [
      "ONNX Predicted: [[0. 0. 0. 0. 1. 0.]\n",
      " [0. 0. 0. 0. 0. 1.]\n",
      " [0. 0. 0. 0. 1. 0.]]\n",
      "Model Predicted: [array([[0., 0., 0., 0., 1., 0.],\n",
      "       [0., 0., 0., 0., 0., 1.],\n",
      "       [0., 0., 0., 0., 1., 0.]], dtype=float32)]\n"
     ]
    }
   ],
   "source": [
    "onnx_pred = session.run(output_names, {\"input\": np.float32(x_test[:3])})\n",
    "# onnx_pred = session.run(output_names, {\"input\": (new_tensor)})\n",
    "\n",
    "print('ONNX Predicted:', onnx_pred[0])\n",
    "\n",
    "# make sure ONNX and keras have the same results\n",
    "# np.testing.assert_allclose(predictions, onnx_pred[0], rtol=1e-5)\n",
    "print('Model Predicted:', onnx_pred)"
   ]
  }
 ],
 "metadata": {
  "interpreter": {
   "hash": "31f2aee4e71d21fbe5cf8b01ff0e069b9275f58929596ceb00d14d90e3e16cd6"
  },
  "kernelspec": {
   "display_name": "Python 3.9.7 64-bit",
   "language": "python",
   "name": "python3"
  },
  "language_info": {
   "codemirror_mode": {
    "name": "ipython",
    "version": 3
   },
   "file_extension": ".py",
   "mimetype": "text/x-python",
   "name": "python",
   "nbconvert_exporter": "python",
   "pygments_lexer": "ipython3",
   "version": "3.9.7"
  },
  "orig_nbformat": 4
 },
 "nbformat": 4,
 "nbformat_minor": 2
}
